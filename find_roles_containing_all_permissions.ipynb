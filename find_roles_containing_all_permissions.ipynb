{
 "cells": [
  {
   "cell_type": "code",
   "execution_count": 1,
   "metadata": {},
   "outputs": [],
   "source": [
    "# Copyright 2020 Google LLC\n",
    "\n",
    "# Licensed under the Apache License, Version 2.0 (the \"License\");\n",
    "# you may not use this file except in compliance with the License.\n",
    "# You may obtain a copy of the License at\n",
    "\n",
    "#     http://www.apache.org/licenses/LICENSE-2.0\n",
    "\n",
    "# Unless required by applicable law or agreed to in writing, software\n",
    "# distributed under the License is distributed on an \"AS IS\" BASIS,\n",
    "# WITHOUT WARRANTIES OR CONDITIONS OF ANY KIND, either express or implied.\n",
    "# See the License for the specific language governing permissions and\n",
    "# limitations under the License."
   ]
  },
  {
   "cell_type": "code",
   "execution_count": 2,
   "metadata": {},
   "outputs": [],
   "source": [
    "import json\n",
    "import collections\n",
    "import warnings\n",
    "\n",
    "from googleapiclient import discovery"
   ]
  },
  {
   "cell_type": "code",
   "execution_count": 3,
   "metadata": {},
   "outputs": [],
   "source": [
    "# Because I'm devving locally and using app default creds, I'm suppressing\n",
    "# explicitly to make my output prettier.\n",
    "warnings.filterwarnings(\"ignore\", \"Your application has authenticated using end user credentials\")"
   ]
  },
  {
   "cell_type": "code",
   "execution_count": 4,
   "metadata": {},
   "outputs": [
    {
     "name": "stdout",
     "output_type": "stream",
     "text": [
      "Fetching list of all roles.\n",
      "Still working...\n",
      "Still working...\n",
      "Fetched all roles.\n"
     ]
    }
   ],
   "source": [
    "# Fetch most up to date role list and role descriptions from API\n",
    "\n",
    "# Build Cloud IAM API client\n",
    "iam = discovery.build('iam', 'v1')\n",
    "\n",
    "raw_role_data = {}\n",
    "\n",
    "# Build initial request\n",
    "request = iam.roles().list()\n",
    "\n",
    "print('Fetching list of all roles.')\n",
    "\n",
    "while True:\n",
    "    # Results are paginated, so iterate over the results until exhausted\n",
    "    response = request.execute()\n",
    "\n",
    "    for role in response.get('roles', []):\n",
    "        name = role['name']\n",
    "        if name not in raw_role_data:\n",
    "            # print(f'Getting details for {name}.')\n",
    "            \n",
    "            # Get role details which contains included permissions\n",
    "            raw_role_data[name] = iam.roles().get(name=name).execute()\n",
    "\n",
    "    print('Still working...')\n",
    "    # Get the next page\n",
    "    request = iam.roles().list_next(previous_request=request,\n",
    "                                    previous_response=response)\n",
    "    \n",
    "    if request is None:\n",
    "        print('Fetched all roles.')\n",
    "        break"
   ]
  },
  {
   "cell_type": "code",
   "execution_count": 5,
   "metadata": {},
   "outputs": [
    {
     "name": "stdout",
     "output_type": "stream",
     "text": [
      "Writing role permissions.\n",
      "Done.\n"
     ]
    }
   ],
   "source": [
    "# Dump the data to JSON as a snapshot of state of roles/permissions\n",
    "# Useful for further processing or obviate the need for more API calls\n",
    "print('Writing role permissions.')\n",
    "\n",
    "with open('roles.json', 'w') as f:\n",
    "    json.dump(raw_role_data, f, indent=2)\n",
    "\n",
    "print('Done.')"
   ]
  },
  {
   "cell_type": "code",
   "execution_count": 6,
   "metadata": {},
   "outputs": [],
   "source": [
    "# Iter over API data; map roles to perms, perms to roles, counts, and unique perms\n",
    "roles_to_perms = collections.defaultdict(set)\n",
    "perms_to_roles = collections.defaultdict(set)\n",
    "perms_counts = collections.defaultdict(int)\n",
    "unique_perms = set()\n",
    "\n",
    "for role_name, role_data in raw_role_data.items():\n",
    "    for perm in role_data.get('includedPermissions', []):\n",
    "        roles_to_perms[role_name].add(perm)\n",
    "        perms_to_roles[perm].add(role_name)\n",
    "        perms_counts[role_name] += 1\n",
    "        unique_perms.add(perm)"
   ]
  },
  {
   "cell_type": "code",
   "execution_count": 7,
   "metadata": {},
   "outputs": [
    {
     "name": "stdout",
     "output_type": "stream",
     "text": [
      "Unique roles: 485\n",
      "Unique permissions: 2658\n"
     ]
    }
   ],
   "source": [
    "print(f'Unique roles: {len(perms_counts)}')\n",
    "print(f'Unique permissions: {len(unique_perms)}')"
   ]
  },
  {
   "cell_type": "code",
   "execution_count": 8,
   "metadata": {},
   "outputs": [],
   "source": [
    "# Create a list of roles sorted by number of permissions in each\n",
    "\n",
    "roles_sorted_by_perms_asc = sorted(perms_counts.items(), key=lambda x: x[1])"
   ]
  },
  {
   "cell_type": "code",
   "execution_count": 9,
   "metadata": {},
   "outputs": [
    {
     "name": "stdout",
     "output_type": "stream",
     "text": [
      "Found 446 subset roles:\n",
      "roles/accessapproval.approver\n",
      "roles/accessapproval.configEditor\n",
      "roles/accessapproval.viewer\n",
      "roles/accesscontextmanager.policyEditor\n",
      "roles/accesscontextmanager.policyReader\n",
      "roles/actions.Admin\n",
      "roles/actions.Viewer\n",
      "roles/androidmanagement.user\n",
      "roles/apigee.admin\n",
      "roles/apigee.analyticsAgent\n",
      "+ 436 others.\n"
     ]
    }
   ],
   "source": [
    "# Find any roles with permissions which are subsets of another role.\n",
    "# This reduces the number of choices we have, ensuring we're selecting\n",
    "# a more comprehensive (greater number of permissiones) role later\n",
    "\n",
    "subset_roles = set()\n",
    "for this_role, _ in roles_sorted_by_perms_asc:\n",
    "    for other_role, other_perms in roles_to_perms.items():\n",
    "        if this_role == other_role:\n",
    "            continue\n",
    "        \n",
    "        this_perms = roles_to_perms[this_role]\n",
    "        \n",
    "        if this_perms.issubset(other_perms):\n",
    "            subset_roles.add(this_role)\n",
    "            \n",
    "count = len(subset_roles)\n",
    "print(f'Found {count} subset roles:')\n",
    "print(\"\\n\".join(sorted(subset_roles)[:10]))\n",
    "print(f'+ {count - 10} others.')"
   ]
  },
  {
   "cell_type": "code",
   "execution_count": 10,
   "metadata": {},
   "outputs": [],
   "source": [
    "# Select the role with the most permissions\n",
    "\n",
    "role_with_most_perms = roles_sorted_by_perms_asc[-1][0]"
   ]
  },
  {
   "cell_type": "code",
   "execution_count": 11,
   "metadata": {},
   "outputs": [
    {
     "data": {
      "text/plain": [
       "'roles/owner'"
      ]
     },
     "execution_count": 11,
     "metadata": {},
     "output_type": "execute_result"
    }
   ],
   "source": [
    "# What role did we select?  Probably \"roles/owner\"–it's huge!.\n",
    "\n",
    "role_with_most_perms"
   ]
  },
  {
   "cell_type": "code",
   "execution_count": 12,
   "metadata": {},
   "outputs": [
    {
     "data": {
      "text/plain": [
       "2578"
      ]
     },
     "execution_count": 12,
     "metadata": {},
     "output_type": "execute_result"
    }
   ],
   "source": [
    "# The number of permissions this role includes\n",
    "\n",
    "perms_counts[role_with_most_perms]"
   ]
  },
  {
   "cell_type": "code",
   "execution_count": 13,
   "metadata": {},
   "outputs": [],
   "source": [
    "# Start selection with the role with the most perms (currently roles/owner)\n",
    "\n",
    "selected_roles = {role_with_most_perms,}"
   ]
  },
  {
   "cell_type": "code",
   "execution_count": 14,
   "metadata": {},
   "outputs": [],
   "source": [
    "# Determine what permissions we still need to satisfy\n",
    "\n",
    "remaining = unique_perms - roles_to_perms[role_with_most_perms]"
   ]
  },
  {
   "cell_type": "code",
   "execution_count": 15,
   "metadata": {},
   "outputs": [
    {
     "data": {
      "text/plain": [
       "80"
      ]
     },
     "execution_count": 15,
     "metadata": {},
     "output_type": "execute_result"
    }
   ],
   "source": [
    "# So how many permissions are left to solve?\n",
    "\n",
    "len(remaining)"
   ]
  },
  {
   "cell_type": "code",
   "execution_count": 16,
   "metadata": {},
   "outputs": [
    {
     "name": "stdout",
     "output_type": "stream",
     "text": [
      "Selected roles: roles/owner\n",
      "Number of permissions remaining to satisfy: 80\n",
      "Looing for permission \"axt.labels.get\".\n",
      "Satisfying roles: roles/axt.admin\n",
      "Role with most perms: roles/axt.admin\n",
      "\n",
      "Selected roles: roles/owner, roles/axt.admin\n",
      "Number of permissions remaining to satisfy: 77\n",
      "Looing for permission \"bigquery.tables.create\".\n",
      "Satisfying roles: roles/bigquery.admin, roles/datafusion.serviceAgent, roles/cloudasset.serviceAgent\n",
      "Role with most perms: roles/datafusion.serviceAgent\n",
      "\n",
      "Selected roles: roles/owner, roles/datafusion.serviceAgent, roles/axt.admin\n",
      "Number of permissions remaining to satisfy: 56\n",
      "Looing for permission \"billing.accounts.close\".\n",
      "Satisfying roles: roles/billing.admin\n",
      "Role with most perms: roles/billing.admin\n",
      "\n",
      "Selected roles: roles/owner, roles/datafusion.serviceAgent, roles/axt.admin, roles/billing.admin\n",
      "Number of permissions remaining to satisfy: 28\n",
      "Looing for permission \"billing.accounts.create\".\n",
      "Satisfying roles: roles/billing.creator\n",
      "Role with most perms: roles/billing.creator\n",
      "\n",
      "Selected roles: roles/datafusion.serviceAgent, roles/owner, roles/axt.admin, roles/billing.admin, roles/billing.creator\n",
      "Number of permissions remaining to satisfy: 27\n",
      "Looing for permission \"compute.organizations.administerXpn\".\n",
      "Satisfying roles: roles/compute.xpnAdmin, roles/compute.admin\n",
      "Role with most perms: roles/compute.xpnAdmin\n",
      "\n",
      "Selected roles: roles/datafusion.serviceAgent, roles/compute.xpnAdmin, roles/owner, roles/axt.admin, roles/billing.admin, roles/billing.creator\n",
      "Number of permissions remaining to satisfy: 22\n",
      "Looing for permission \"container.hostServiceAgent.use\".\n",
      "Satisfying roles: roles/container.hostServiceAgentUser, roles/composer.worker\n",
      "Role with most perms: roles/container.hostServiceAgentUser\n",
      "\n",
      "Selected roles: roles/datafusion.serviceAgent, roles/compute.xpnAdmin, roles/owner, roles/axt.admin, roles/container.hostServiceAgentUser, roles/billing.admin, roles/billing.creator\n",
      "Number of permissions remaining to satisfy: 21\n",
      "Looing for permission \"datacatalog.categories.fineGrainedGet\".\n",
      "Satisfying roles: roles/datacatalog.categoryFineGrainedReader\n",
      "Role with most perms: roles/datacatalog.categoryFineGrainedReader\n",
      "\n",
      "Selected roles: roles/datafusion.serviceAgent, roles/datacatalog.categoryFineGrainedReader, roles/compute.xpnAdmin, roles/owner, roles/axt.admin, roles/container.hostServiceAgentUser, roles/billing.admin, roles/billing.creator\n",
      "Number of permissions remaining to satisfy: 20\n",
      "Looing for permission \"iam.serviceAccounts.getAccessToken\".\n",
      "Satisfying roles: roles/cloudfunctions.serviceAgent, roles/serverless.serviceAgent, roles/iam.serviceAccountTokenCreator, roles/cloudscheduler.serviceAgent\n",
      "Role with most perms: roles/serverless.serviceAgent\n",
      "\n",
      "Selected roles: roles/datafusion.serviceAgent, roles/datacatalog.categoryFineGrainedReader, roles/serverless.serviceAgent, roles/compute.xpnAdmin, roles/owner, roles/axt.admin, roles/container.hostServiceAgentUser, roles/billing.admin, roles/billing.creator\n",
      "Number of permissions remaining to satisfy: 17\n",
      "Looing for permission \"iam.serviceAccounts.implicitDelegation\".\n",
      "Satisfying roles: roles/iam.serviceAccountTokenCreator\n",
      "Role with most perms: roles/iam.serviceAccountTokenCreator\n",
      "\n",
      "Selected roles: roles/datafusion.serviceAgent, roles/datacatalog.categoryFineGrainedReader, roles/serverless.serviceAgent, roles/compute.xpnAdmin, roles/owner, roles/iam.serviceAccountTokenCreator, roles/axt.admin, roles/container.hostServiceAgentUser, roles/billing.admin, roles/billing.creator\n",
      "Number of permissions remaining to satisfy: 15\n",
      "Looing for permission \"iap.webServiceVersions.accessViaIAP\".\n",
      "Satisfying roles: roles/iap.httpsResourceAccessor\n",
      "Role with most perms: roles/iap.httpsResourceAccessor\n",
      "\n",
      "Selected roles: roles/datafusion.serviceAgent, roles/datacatalog.categoryFineGrainedReader, roles/serverless.serviceAgent, roles/compute.xpnAdmin, roles/owner, roles/iap.httpsResourceAccessor, roles/iam.serviceAccountTokenCreator, roles/axt.admin, roles/container.hostServiceAgentUser, roles/billing.admin, roles/billing.creator\n",
      "Number of permissions remaining to satisfy: 14\n",
      "Looing for permission \"orgpolicy.policy.set\".\n",
      "Satisfying roles: roles/orgpolicy.policyAdmin\n",
      "Role with most perms: roles/orgpolicy.policyAdmin\n",
      "\n",
      "Selected roles: roles/datafusion.serviceAgent, roles/datacatalog.categoryFineGrainedReader, roles/serverless.serviceAgent, roles/compute.xpnAdmin, roles/owner, roles/iap.httpsResourceAccessor, roles/iam.serviceAccountTokenCreator, roles/axt.admin, roles/container.hostServiceAgentUser, roles/orgpolicy.policyAdmin, roles/billing.admin, roles/billing.creator\n",
      "Number of permissions remaining to satisfy: 13\n",
      "Looing for permission \"remotebuildexecution.actions.set\".\n",
      "Satisfying roles: roles/remotebuildexecution.actionCacheWriter\n",
      "Role with most perms: roles/remotebuildexecution.actionCacheWriter\n",
      "\n",
      "Selected roles: roles/datafusion.serviceAgent, roles/datacatalog.categoryFineGrainedReader, roles/serverless.serviceAgent, roles/remotebuildexecution.actionCacheWriter, roles/compute.xpnAdmin, roles/owner, roles/iap.httpsResourceAccessor, roles/iam.serviceAccountTokenCreator, roles/axt.admin, roles/container.hostServiceAgentUser, roles/orgpolicy.policyAdmin, roles/billing.admin, roles/billing.creator\n",
      "Number of permissions remaining to satisfy: 12\n",
      "Looing for permission \"resourcemanager.folders.create\".\n",
      "Satisfying roles: roles/resourcemanager.folderAdmin\n",
      "Role with most perms: roles/resourcemanager.folderAdmin\n",
      "\n",
      "Selected roles: roles/datafusion.serviceAgent, roles/datacatalog.categoryFineGrainedReader, roles/serverless.serviceAgent, roles/remotebuildexecution.actionCacheWriter, roles/compute.xpnAdmin, roles/owner, roles/iap.httpsResourceAccessor, roles/iam.serviceAccountTokenCreator, roles/resourcemanager.folderAdmin, roles/axt.admin, roles/container.hostServiceAgentUser, roles/orgpolicy.policyAdmin, roles/billing.admin, roles/billing.creator\n",
      "Number of permissions remaining to satisfy: 3\n",
      "Looing for permission \"resourcemanager.organizations.getIamPolicy\".\n",
      "Satisfying roles: roles/iam.securityAdmin, roles/iam.organizationRoleAdmin, roles/resourcemanager.organizationAdmin\n",
      "Role with most perms: roles/resourcemanager.organizationAdmin\n",
      "\n",
      "Selected roles: roles/datafusion.serviceAgent, roles/datacatalog.categoryFineGrainedReader, roles/serverless.serviceAgent, roles/remotebuildexecution.actionCacheWriter, roles/compute.xpnAdmin, roles/owner, roles/iap.httpsResourceAccessor, roles/iam.serviceAccountTokenCreator, roles/resourcemanager.folderAdmin, roles/resourcemanager.organizationAdmin, roles/axt.admin, roles/container.hostServiceAgentUser, roles/orgpolicy.policyAdmin, roles/billing.admin, roles/billing.creator\n",
      "Number of permissions remaining to satisfy: 1\n",
      "Looing for permission \"resourcemanager.projects.create\".\n",
      "Satisfying roles: roles/resourcemanager.projectCreator\n",
      "Role with most perms: roles/resourcemanager.projectCreator\n",
      "\n",
      "Done.\n"
     ]
    }
   ],
   "source": [
    "# While there are still permissions left to satisfy, find the next role with the\n",
    "# largest number of permissions and add it to the list, and update what permissions\n",
    "# are remaining.  Repeat until there are no more permissions remaining.\n",
    "while remaining:\n",
    "    print(f'Selected roles: {\", \".join(selected_roles)}')\n",
    "    print(f'Number of permissions remaining to satisfy: {len(remaining)}')\n",
    "    \n",
    "    # Sort remaining as sets are intrinsically unordered\n",
    "    # Not strictly necessary, but the benefit here is consistent results\n",
    "    # at the slight cost of performance due to the sort\n",
    "    for perm in sorted(remaining):\n",
    "        print(f'Looing for permission \"{perm}\".')\n",
    "        \n",
    "        # get set of roles which contain permission, removing those which\n",
    "        # are subsets of another\n",
    "        satisfy = perms_to_roles[perm] - subset_roles\n",
    "        print(f'Satisfying roles: {\", \".join(satisfy)}')\n",
    "\n",
    "        # sort roles by the number of permissions they contain, select role\n",
    "        # with the most\n",
    "        sorted_roles = sorted((role, perms_counts[role])\n",
    "                              for role in satisfy)\n",
    "        selected = sorted_roles[-1][0]\n",
    "        print(f'Role with most perms: {selected}')\n",
    "\n",
    "        # add this role to selected roles and recalculate remaining perms\n",
    "        selected_roles.add(selected)\n",
    "        remaining = remaining - roles_to_perms[selected]\n",
    "\n",
    "        # We're recalculating remaining in-place, so we have to break\n",
    "        break\n",
    "    \n",
    "    print()\n",
    "\n",
    "print('Done.')"
   ]
  },
  {
   "cell_type": "code",
   "execution_count": 17,
   "metadata": {},
   "outputs": [
    {
     "name": "stdout",
     "output_type": "stream",
     "text": [
      "roles/axt.admin\n",
      "roles/billing.admin\n",
      "roles/billing.creator\n",
      "roles/compute.xpnAdmin\n",
      "roles/container.hostServiceAgentUser\n",
      "roles/datacatalog.categoryFineGrainedReader\n",
      "roles/datafusion.serviceAgent\n",
      "roles/iam.serviceAccountTokenCreator\n",
      "roles/iap.httpsResourceAccessor\n",
      "roles/orgpolicy.policyAdmin\n",
      "roles/owner\n",
      "roles/remotebuildexecution.actionCacheWriter\n",
      "roles/resourcemanager.folderAdmin\n",
      "roles/resourcemanager.organizationAdmin\n",
      "roles/resourcemanager.projectCreator\n",
      "roles/serverless.serviceAgent\n"
     ]
    }
   ],
   "source": [
    "# We have roles!\n",
    "\n",
    "print(\"\\n\".join(sorted(selected_roles)))"
   ]
  },
  {
   "cell_type": "code",
   "execution_count": 18,
   "metadata": {},
   "outputs": [
    {
     "data": {
      "text/plain": [
       "16"
      ]
     },
     "execution_count": 18,
     "metadata": {},
     "output_type": "execute_result"
    }
   ],
   "source": [
    "# How many did we pick?\n",
    "\n",
    "len(selected_roles)"
   ]
  },
  {
   "cell_type": "code",
   "execution_count": 19,
   "metadata": {},
   "outputs": [
    {
     "data": {
      "text/plain": [
       "True"
      ]
     },
     "execution_count": 19,
     "metadata": {},
     "output_type": "execute_result"
    }
   ],
   "source": [
    "# Does our selected set of roles give us every unique permission?\n",
    "\n",
    "{perm for role in selected_roles for perm in roles_to_perms[role]} == unique_perms"
   ]
  }
 ],
 "metadata": {
  "kernelspec": {
   "display_name": "Python 3",
   "language": "python",
   "name": "python3"
  },
  "language_info": {
   "codemirror_mode": {
    "name": "ipython",
    "version": 3
   },
   "file_extension": ".py",
   "mimetype": "text/x-python",
   "name": "python",
   "nbconvert_exporter": "python",
   "pygments_lexer": "ipython3",
   "version": "3.8.1"
  }
 },
 "nbformat": 4,
 "nbformat_minor": 4
}
